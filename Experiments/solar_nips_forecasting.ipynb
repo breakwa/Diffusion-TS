{
 "cells": [
  {
   "cell_type": "markdown",
   "metadata": {},
   "source": [
    "# Forecasting Experiment on Solar-nips Dataset\n",
    "\n",
    "<!-- See issue : https://github.com/AI4HealthUOL/SSSD/issues/8 -->"
   ]
  },
  {
   "cell_type": "code",
   "execution_count": 1,
   "metadata": {},
   "source": [
    "import os\n",
    "import torch\n",
    "import numpy as np\n",
    "\n",
    "import warnings\n",
    "warnings.filterwarnings(\"ignore\")\n",
    "\n",
    "import sys\n",
    "sys.path.append(os.path.join(os.path.dirname('__file__'), '../'))\n",
    "\n",
    "from engine.solver import Trainer\n",
    "from sklearn.metrics import mean_squared_error\n",
    "from sklearn.preprocessing import MinMaxScaler\n",
    "from torch.utils.data import Dataset, DataLoader\n",
    "from gluonts.dataset.repository.datasets import get_dataset\n",
    "from gluonts.dataset.multivariate_grouper import MultivariateGrouper\n",
    "from Utils.io_utils import load_yaml_config, instantiate_from_config\n",
    "from Models.interpretable_diffusion.model_utils import normalize_to_neg_one_to_one, unnormalize_to_zero_to_one"
   ],
   "outputs": []
  },
  {
   "cell_type": "code",
   "execution_count": 2,
   "metadata": {},
   "source": [
    "dataset = get_dataset('solar_nips', regenerate=False)\n",
    "data_grouper = MultivariateGrouper(max_target_dim=min(2000, int(dataset.metadata.feat_static_cat[0].cardinality)))\n",
    "\n",
    "data = data_grouper(dataset.test)\n",
    "data = data[0]['target'].transpose(1,0)"
   ],
   "outputs": []
  },
  {
   "cell_type": "code",
   "execution_count": 3,
   "metadata": {},
   "source": [
    "train = data[:6912, :]\n",
    "test = data[6985:,:].reshape(1, -1, data.shape[-1])\n",
    "\n",
    "scaler = MinMaxScaler()\n",
    "train_scaled = normalize_to_neg_one_to_one(scaler.fit_transform(train))\n",
    "test_scaled = scaler.transform(test.reshape(-1, test.shape[-1])).reshape(test.shape)\n",
    "test_scaled = normalize_to_neg_one_to_one(test_scaled)"
   ],
   "outputs": []
  },
  {
   "cell_type": "code",
   "execution_count": 4,
   "metadata": {},
   "source": [
    "class SolarDataset(Dataset):\n",
    "    def __init__(self, data, regular=True, pred_length=72):\n",
    "        super(SolarDataset, self).__init__()\n",
    "        self.sample_num = data.shape[0]\n",
    "        self.samples = data\n",
    "        self.regular = regular\n",
    "        self.mask = np.ones_like(data)\n",
    "        self.mask[:, -pred_length:, :] = 0.\n",
    "        self.mask = self.mask.astype(bool)\n",
    "\n",
    "    def __getitem__(self, ind):\n",
    "        x = self.samples[ind, :, :]\n",
    "        if self.regular:\n",
    "            return torch.from_numpy(x).float()\n",
    "        mask = self.mask[ind, :, :]\n",
    "        return torch.from_numpy(x).float(), torch.from_numpy(mask)\n",
    "\n",
    "    def __len__(self):\n",
    "        return self.sample_num"
   ],
   "outputs": []
  },
  {
   "cell_type": "code",
   "execution_count": 5,
   "metadata": {},
   "source": [
    "train_dataset = SolarDataset(train_scaled.reshape(36, -1, data.shape[-1]))\n",
    "dataloader = DataLoader(train_dataset, batch_size=18, shuffle=True, num_workers=0, drop_last=False, pin_memory=True, sampler=None)"
   ],
   "outputs": []
  },
  {
   "cell_type": "code",
   "execution_count": 6,
   "metadata": {},
   "source": [
    "class Args_Example:\n",
    "    def __init__(self) -> None:\n",
    "        self.config_path = '../Config/solar_update.yaml'\n",
    "        self.save_dir = '../forecasting_exp_update'\n",
    "        self.gpu = 0\n",
    "        os.makedirs(self.save_dir, exist_ok=True)\n",
    "\n",
    "args =  Args_Example()\n",
    "configs = load_yaml_config(args.config_path)\n",
    "device = torch.device(f'cuda:{args.gpu}' if torch.cuda.is_available() else 'cpu')\n",
    "\n",
    "model = instantiate_from_config(configs['model']).to(device)\n",
    "trainer = Trainer(config=configs, args=args, model=model, dataloader={'dataloader':dataloader})"
   ],
   "outputs": []
  },
  {
   "cell_type": "code",
   "execution_count": 7,
   "metadata": {},
   "source": [
    "trainer.train()"
   ],
   "outputs": []
  },
  {
   "cell_type": "code",
   "execution_count": 8,
   "metadata": {},
   "source": [
    "_, seq_length, feat_num = test_scaled.shape\n",
    "pred_length = 24\n",
    "\n",
    "test_dataset = SolarDataset(test_scaled, regular=False, pred_length=pred_length)\n",
    "real = scaler.inverse_transform(unnormalize_to_zero_to_one(test_scaled.reshape(-1, feat_num))).reshape(test_scaled.shape)\n",
    "test_dataloader = torch.utils.data.DataLoader(test_dataset, batch_size=test_scaled.shape[0], shuffle=False, num_workers=0, pin_memory=True, sampler=None)\n",
    "\n",
    "sample, *_ = trainer.restore(test_dataloader, shape=[seq_length, feat_num], coef=1e-1, stepsize=5e-2, sampling_steps=200)\n",
    "sample = scaler.inverse_transform(unnormalize_to_zero_to_one(sample.reshape(-1, feat_num))).reshape(test_scaled.shape)\n",
    "mask = test_dataset.mask\n",
    "mse = mean_squared_error(sample[~mask], real[~mask])\n",
    "print(mse)"
   ],
   "outputs": []
  },
  {
   "cell_type": "code",
   "execution_count": 9,
   "metadata": {},
   "source": [
    "import matplotlib.pyplot as plt\n",
    "\n",
    "plt.rcParams[\"font.size\"] = 12\n",
    "\n",
    "for idx in range(5):\n",
    "    plt.figure(figsize=(15, 3))\n",
    "    plt.plot(range(0, seq_length-pred_length), real[0, :(seq_length-pred_length), -idx], color='c', linestyle='solid', label='History')\n",
    "    plt.plot(range(seq_length-pred_length-1, seq_length), real[0, -pred_length-1:, -idx], color='g', linestyle='solid', label='Ground Truth')\n",
    "    plt.plot(range(seq_length-pred_length-1, seq_length), sample[0, -pred_length-1:, -idx], color='r', linestyle='solid', label='Prediction')\n",
    "    plt.tick_params('both', labelsize=15)\n",
    "    plt.subplots_adjust(bottom=0.1, left=0.05, right=0.99, top=0.95)\n",
    "    plt.legend()\n",
    "    plt.show()"
   ],
   "outputs": []
  }
 ],
 "metadata": {
  "kernelspec": {
   "display_name": "DPlearning_3.8",
   "language": "python",
   "name": "python3"
  },
  "language_info": {
   "codemirror_mode": {
    "name": "ipython",
    "version": 3
   },
   "file_extension": ".py",
   "mimetype": "text/x-python",
   "name": "python",
   "nbconvert_exporter": "python",
   "pygments_lexer": "ipython3",
   "version": "3.8.13"
  }
 },
 "nbformat": 4,
 "nbformat_minor": 2
}
