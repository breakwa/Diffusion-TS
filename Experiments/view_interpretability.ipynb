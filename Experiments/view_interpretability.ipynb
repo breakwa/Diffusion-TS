{
 "cells": [
  {
   "cell_type": "markdown",
   "metadata": {},
   "source": [
    "# Interpretable Results on Synthetic Data"
   ]
  },
  {
   "cell_type": "code",
   "execution_count": 1,
   "metadata": {},
   "source": [
    "import os\n",
    "import torch\n",
    "import numpy as np\n",
    "import matplotlib.pyplot as plt\n",
    "\n",
    "import warnings\n",
    "warnings.filterwarnings(\"ignore\")\n",
    "\n",
    "import sys\n",
    "sys.path.append(os.path.join(os.path.dirname('__file__'), '../'))\n",
    "\n",
    "from tqdm.auto import tqdm\n",
    "from engine.solver import Trainer\n",
    "from torch.utils.data import Dataset\n",
    "from sklearn.preprocessing import MinMaxScaler\n",
    "from Utils.io_utils import load_yaml_config, instantiate_from_config\n",
    "from Models.interpretable_diffusion.model_utils import normalize_to_neg_one_to_one\n"
   ],
   "outputs": []
  },
  {
   "cell_type": "code",
   "execution_count": 2,
   "metadata": {},
   "source": [
    "def syn_data_generation(no, seq_len, dim, seed=123):\n",
    "    st0 = np.random.get_state()\n",
    "    np.random.seed(seed)\n",
    "    \n",
    "    local_data, global_data = list(), list()\n",
    "    for i in tqdm(range(0, no), total=no, desc=\"Sampling Synthetic Data\"):\n",
    "        local, glob = list(), list()\n",
    "        for k in range(dim):\n",
    "            a = np.random.uniform(0, 1)            \n",
    "            b = np.random.uniform(0, 1)\n",
    "            c = np.random.uniform(0.1, 0.5)\n",
    "            e = np.random.uniform(1, 3)\n",
    "\n",
    "            temp_data1 = [c * (np.sin(0.2 * np.pi * j * (k+1) + a) + 2 * np.sin(0.1 * np.pi * j * (k+1) + b)) for j in range(seq_len)]\n",
    "\n",
    "            signal = np.random.uniform(0, 1)\n",
    "            if signal > 0.5:\n",
    "                temp_data2 = [e * np.sin(0.001 * np.pi * j) for j in range(seq_len)]\n",
    "            else:\n",
    "                temp_data2 = [- e * np.sin(0.001 * np.pi * j) for j in range(seq_len)]\n",
    "\n",
    "            local.append(temp_data1)\n",
    "            glob.append(temp_data2)\n",
    "        \n",
    "        local = np.transpose(np.asarray(local))\n",
    "        local_data.append(local)\n",
    "        glob = np.transpose(np.asarray(glob))\n",
    "        global_data.append(glob)\n",
    "\n",
    "    np.random.set_state(st0)\n",
    "    local_data = np.array(local_data)\n",
    "    global_data = np.array(global_data)\n",
    "    return local_data, global_data"
   ],
   "outputs": []
  },
  {
   "cell_type": "code",
   "execution_count": 3,
   "metadata": {},
   "source": [
    "class SynDataset(Dataset):\n",
    "    def __init__(self, data1, data2, period='train'):\n",
    "        super(SynDataset, self).__init__()\n",
    "        self.season = data1\n",
    "        self.trend = data2\n",
    "        self.samples = data1 + data2\n",
    "        self.period = period\n",
    "\n",
    "    def __getitem__(self, ind):\n",
    "        x = self.samples[ind, :, :]\n",
    "        if self.period == 'train':\n",
    "            return torch.from_numpy(x).float()\n",
    "        \n",
    "        t = self.trend[ind, :, :]\n",
    "        s = self.season[ind, :, :]\n",
    "        return torch.from_numpy(x).float(), torch.from_numpy(t).float(),\\\n",
    "               torch.from_numpy(s).float()\n",
    "\n",
    "    def __len__(self):\n",
    "        return self.samples.shape[0]"
   ],
   "outputs": []
  },
  {
   "cell_type": "code",
   "execution_count": 4,
   "metadata": {},
   "source": [
    "data1, data2 = syn_data_generation(1000, seq_len=160, dim=5, seed=123)"
   ],
   "outputs": []
  },
  {
   "cell_type": "code",
   "execution_count": 5,
   "metadata": {},
   "source": [
    "scaler = MinMaxScaler()\n",
    "scaler.fit((data1 + data2).reshape(-1, 5))\n",
    "season = normalize_to_neg_one_to_one(scaler.transform(data1.reshape(-1, 5)).reshape(data1.shape))\n",
    "trend = normalize_to_neg_one_to_one(scaler.transform(data2.reshape(-1, 5)).reshape(data2.shape))\n",
    "\n",
    "train_dataset = SynDataset(season, trend, period='train')\n",
    "test_dataset = SynDataset(season, trend, period='test')\n",
    "device = torch.device('cuda:0' if torch.cuda.is_available() else 'cpu')\n",
    "dataloader = torch.utils.data.DataLoader(train_dataset, batch_size=128, shuffle=True, num_workers=0, pin_memory=True, sampler=None)"
   ],
   "outputs": []
  },
  {
   "cell_type": "code",
   "execution_count": 6,
   "metadata": {},
   "source": [
    "class Args_Example:\n",
    "    def __init__(self) -> None:\n",
    "        self.config_path = '../Config/config.yaml'\n",
    "        self.save_dir = '../interpretability_exp'\n",
    "        self.gpu = 0\n",
    "        os.makedirs(self.save_dir, exist_ok=True)\n",
    "\n",
    "args =  Args_Example()\n",
    "configs = load_yaml_config(args.config_path)\n",
    "device = torch.device(f'cuda:{args.gpu}' if torch.cuda.is_available() else 'cpu')\n",
    "\n",
    "model = instantiate_from_config(configs['model']).to(device)\n",
    "trainer = Trainer(config=configs, args=args, model=model, dataloader={'dataloader':dataloader})"
   ],
   "outputs": []
  },
  {
   "cell_type": "code",
   "execution_count": 7,
   "metadata": {},
   "source": [
    "trainer.train()"
   ],
   "outputs": []
  },
  {
   "cell_type": "code",
   "execution_count": 8,
   "metadata": {},
   "source": [
    "dataloader = torch.utils.data.DataLoader(test_dataset, batch_size=32, shuffle=True, num_workers=0, pin_memory=True, sampler=None)\n",
    "data, trend_r, season_r = next(iter(dataloader))\n",
    "data, trend_r, season_r = data.to(device), trend_r.to(device), season_r.to(device)\n",
    "\n",
    "interpretable_model = trainer.model.to(device)\n",
    "interpretable_model.eval()\n",
    "\n",
    "t = int(interpretable_model.num_timesteps // 2)  # noisy degree\n",
    "trend, season, r, x = interpretable_model.return_components(data, t)"
   ],
   "outputs": []
  },
  {
   "cell_type": "code",
   "execution_count": 9,
   "metadata": {},
   "source": [
    "idx, size = 0, 5\n",
    "dir = f'./OUTPUT/figures/fig_{t}'\n",
    "os.makedirs(dir, exist_ok=True)\n",
    "\n",
    "plt.figure(figsize=(18, 3))\n",
    "for i in range(size):\n",
    "    plt.plot(x[idx, :, -i].cpu().flatten(), lw=2)\n",
    "plt.grid(color='k', ls ='--', lw=1)\n",
    "plt.title('Dirty Input', fontsize=24)\n",
    "plt.tick_params('both', labelsize=18)\n",
    "plt.ylim((-2, 2))\n",
    "plt.show()\n",
    "\n",
    "plt.figure(figsize=(18, 3))\n",
    "for i in range(size):\n",
    "    plt.plot(data[idx, :, -i].cpu().flatten(), lw=2)\n",
    "plt.grid(color='k', ls ='--', lw=1)\n",
    "plt.title('Original Data', fontsize=24)\n",
    "plt.tick_params('both', labelsize=18)\n",
    "plt.ylim((-1, 1))\n",
    "plt.show()\n",
    "\n",
    "plt.figure(figsize=(18, 3))\n",
    "for i in range(size):\n",
    "    plt.plot((trend + season + r)[idx, :, -i].cpu().detach().numpy().flatten(), lw=2)\n",
    "plt.grid(color='k', ls ='--', lw=1)\n",
    "plt.title('Reconstruction', fontsize=24)\n",
    "plt.tick_params('both', labelsize=18)\n",
    "plt.ylim((-1, 1))\n",
    "plt.show()"
   ],
   "outputs": []
  },
  {
   "cell_type": "code",
   "execution_count": 10,
   "metadata": {},
   "source": [
    "plt.figure(figsize=(18, 3))\n",
    "for i in range(size):\n",
    "    plt.plot(season_r[idx, :, -i].cpu().flatten(), lw=2)\n",
    "plt.grid(color='k', ls ='--', lw=1)\n",
    "plt.title('Original Season', fontsize=24)\n",
    "plt.tick_params('both', labelsize=18)\n",
    "plt.ylim((-1, 1))\n",
    "plt.show()\n",
    "\n",
    "plt.figure(figsize=(18, 3))\n",
    "for i in range(size):\n",
    "    plt.plot(season[idx, :, -i].cpu().detach().numpy().flatten(), lw=2)\n",
    "plt.grid(color='k', ls ='--', lw=1)\n",
    "plt.title('Learnt Season', fontsize=24)\n",
    "plt.tick_params('both', labelsize=18)\n",
    "plt.ylim((-1, 1))\n",
    "plt.show()"
   ],
   "outputs": []
  },
  {
   "cell_type": "code",
   "execution_count": 11,
   "metadata": {},
   "source": [
    "plt.figure(figsize=(18, 3))\n",
    "for i in range(size):\n",
    "    plt.plot(trend_r[idx, :, -i].cpu().flatten(), lw=2)\n",
    "plt.grid(color='k', ls ='--', lw=1)\n",
    "plt.title('Original Trend', fontsize=24)\n",
    "plt.tick_params('both', labelsize=18)\n",
    "plt.ylim((-1, 1))\n",
    "plt.show()\n",
    "\n",
    "plt.figure(figsize=(18, 3))\n",
    "for i in range(size):\n",
    "    plt.plot(trend[idx, :, -i].cpu().detach().numpy().flatten(), lw=2)\n",
    "plt.grid(color='k', ls ='--', lw=1)\n",
    "plt.title('Learnt Trend', fontsize=24)\n",
    "plt.tick_params('both', labelsize=18)\n",
    "plt.ylim((-1, 1))\n",
    "plt.show()"
   ],
   "outputs": []
  },
  {
   "cell_type": "code",
   "execution_count": 12,
   "metadata": {},
   "source": [
    "plt.figure(figsize=(18, 3))\n",
    "for i in range(size):\n",
    "    plt.plot(r[idx, :, -i].cpu().detach().numpy().flatten(), lw=2)\n",
    "plt.grid(color='k', ls ='--', lw=1)\n",
    "plt.title('Learnt Residual', fontsize=24)\n",
    "plt.tick_params('both', labelsize=18)\n",
    "plt.ylim((-1, 1))\n",
    "plt.show()"
   ],
   "outputs": []
  }
 ],
 "metadata": {
  "kernelspec": {
   "display_name": "DPlearning_3.8",
   "language": "python",
   "name": "python3"
  },
  "language_info": {
   "codemirror_mode": {
    "name": "ipython",
    "version": 3
   },
   "file_extension": ".py",
   "mimetype": "text/x-python",
   "name": "python",
   "nbconvert_exporter": "python",
   "pygments_lexer": "ipython3",
   "version": "3.8.13"
  }
 },
 "nbformat": 4,
 "nbformat_minor": 2
}
